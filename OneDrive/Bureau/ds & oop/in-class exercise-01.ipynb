{
 "cells": [
  {
   "cell_type": "markdown",
   "metadata": {},
   "source": [
    "## Exercise - Climate change\n",
    "\n",
    "This exercise was inspired by [Callysto](https://callysto.ca/learning-modules/).\n",
    "\n",
    "We have data from the NASA [Global Climate Change - Vital Signs of the Planet](https://climate.nasa.gov) website. In addition to information about climate change, this website also features those that are working to help make the world better.  \n",
    "\n",
    "### Sea Ice\n",
    "\n",
    "Sea ice is frozen sea water that exists around the poles of the Earth because of extremely cold temperatures. Sea ice is frozen for most of the year.\n",
    "\n",
    "Read the csv file `icesheets.csv`, then answer the following questions:"
   ]
  },
  {
   "cell_type": "code",
   "execution_count": 13,
   "metadata": {},
   "outputs": [
    {
     "data": {
      "text/html": [
       "<div>\n",
       "<style scoped>\n",
       "    .dataframe tbody tr th:only-of-type {\n",
       "        vertical-align: middle;\n",
       "    }\n",
       "\n",
       "    .dataframe tbody tr th {\n",
       "        vertical-align: top;\n",
       "    }\n",
       "\n",
       "    .dataframe thead th {\n",
       "        text-align: right;\n",
       "    }\n",
       "</style>\n",
       "<table border=\"1\" class=\"dataframe\">\n",
       "  <thead>\n",
       "    <tr style=\"text-align: right;\">\n",
       "      <th></th>\n",
       "      <th>TIME (year.decimal)</th>\n",
       "      <th>Antarctic mass (Gigatonnes)</th>\n",
       "      <th>Antarctic mass 1-sigma uncertainty (Gigatonnes)</th>\n",
       "    </tr>\n",
       "  </thead>\n",
       "  <tbody>\n",
       "    <tr>\n",
       "      <th>0</th>\n",
       "      <td>2002.29</td>\n",
       "      <td>0.00</td>\n",
       "      <td>178.90</td>\n",
       "    </tr>\n",
       "    <tr>\n",
       "      <th>1</th>\n",
       "      <td>2002.35</td>\n",
       "      <td>20.74</td>\n",
       "      <td>102.47</td>\n",
       "    </tr>\n",
       "    <tr>\n",
       "      <th>2</th>\n",
       "      <td>2002.62</td>\n",
       "      <td>-58.36</td>\n",
       "      <td>83.09</td>\n",
       "    </tr>\n",
       "    <tr>\n",
       "      <th>3</th>\n",
       "      <td>2002.71</td>\n",
       "      <td>45.80</td>\n",
       "      <td>97.19</td>\n",
       "    </tr>\n",
       "    <tr>\n",
       "      <th>4</th>\n",
       "      <td>2002.79</td>\n",
       "      <td>62.08</td>\n",
       "      <td>61.82</td>\n",
       "    </tr>\n",
       "    <tr>\n",
       "      <th>...</th>\n",
       "      <td>...</td>\n",
       "      <td>...</td>\n",
       "      <td>...</td>\n",
       "    </tr>\n",
       "    <tr>\n",
       "      <th>214</th>\n",
       "      <td>2022.87</td>\n",
       "      <td>-2342.02</td>\n",
       "      <td>33.70</td>\n",
       "    </tr>\n",
       "    <tr>\n",
       "      <th>215</th>\n",
       "      <td>2022.96</td>\n",
       "      <td>-2344.06</td>\n",
       "      <td>40.03</td>\n",
       "    </tr>\n",
       "    <tr>\n",
       "      <th>216</th>\n",
       "      <td>2023.04</td>\n",
       "      <td>-2414.18</td>\n",
       "      <td>47.23</td>\n",
       "    </tr>\n",
       "    <tr>\n",
       "      <th>217</th>\n",
       "      <td>2023.12</td>\n",
       "      <td>-2468.88</td>\n",
       "      <td>55.85</td>\n",
       "    </tr>\n",
       "    <tr>\n",
       "      <th>218</th>\n",
       "      <td>2023.20</td>\n",
       "      <td>-2371.99</td>\n",
       "      <td>64.49</td>\n",
       "    </tr>\n",
       "  </tbody>\n",
       "</table>\n",
       "<p>219 rows × 3 columns</p>\n",
       "</div>"
      ],
      "text/plain": [
       "     TIME (year.decimal)  Antarctic mass (Gigatonnes)  \\\n",
       "0                2002.29                         0.00   \n",
       "1                2002.35                        20.74   \n",
       "2                2002.62                       -58.36   \n",
       "3                2002.71                        45.80   \n",
       "4                2002.79                        62.08   \n",
       "..                   ...                          ...   \n",
       "214              2022.87                     -2342.02   \n",
       "215              2022.96                     -2344.06   \n",
       "216              2023.04                     -2414.18   \n",
       "217              2023.12                     -2468.88   \n",
       "218              2023.20                     -2371.99   \n",
       "\n",
       "     Antarctic mass 1-sigma uncertainty (Gigatonnes)  \n",
       "0                                             178.90  \n",
       "1                                             102.47  \n",
       "2                                              83.09  \n",
       "3                                              97.19  \n",
       "4                                              61.82  \n",
       "..                                               ...  \n",
       "214                                            33.70  \n",
       "215                                            40.03  \n",
       "216                                            47.23  \n",
       "217                                            55.85  \n",
       "218                                            64.49  \n",
       "\n",
       "[219 rows x 3 columns]"
      ]
     },
     "execution_count": 13,
     "metadata": {},
     "output_type": "execute_result"
    }
   ],
   "source": [
    "# import the needed libraries\n",
    "# your code here to read the file\n",
    "\n",
    "import pandas as pd\n",
    "import matplotlib.pyplot as plt\n",
    "\n",
    "icesheets_df = pd.read_csv(\"icesheets.csv\")\n",
    "icesheets_df"
   ]
  },
  {
   "cell_type": "markdown",
   "metadata": {},
   "source": [
    "1. How many rows and columns are there in the file?"
   ]
  },
  {
   "cell_type": "code",
   "execution_count": 6,
   "metadata": {},
   "outputs": [
    {
     "name": "stdout",
     "output_type": "stream",
     "text": [
      "<class 'pandas.core.frame.DataFrame'>\n",
      "RangeIndex: 219 entries, 0 to 218\n",
      "Data columns (total 3 columns):\n",
      " #   Column                                           Non-Null Count  Dtype  \n",
      "---  ------                                           --------------  -----  \n",
      " 0   TIME (year.decimal)                              219 non-null    float64\n",
      " 1   Antarctic mass (Gigatonnes)                      219 non-null    float64\n",
      " 2   Antarctic mass 1-sigma uncertainty (Gigatonnes)  219 non-null    float64\n",
      "dtypes: float64(3)\n",
      "memory usage: 5.3 KB\n"
     ]
    }
   ],
   "source": [
    "# your code to get info about the file here\n",
    "icesheets_df.info()"
   ]
  },
  {
   "cell_type": "markdown",
   "metadata": {},
   "source": [
    "2. draw a line graph about the ice sheets that has the Antarctic mass (Gigatonnes) on the y-axis, against time on the x-axis. Remember to use the name of the column to indicate the data for each axis."
   ]
  },
  {
   "cell_type": "code",
   "execution_count": 23,
   "metadata": {},
   "outputs": [
    {
     "data": {
      "text/plain": [
       "[<matplotlib.lines.Line2D at 0x1d7496316d0>]"
      ]
     },
     "execution_count": 23,
     "metadata": {},
     "output_type": "execute_result"
    },
    {
     "data": {
      "image/png": "[encoded data removed]",
      "text/plain": [
       "<Figure size 640x480 with 1 Axes>"
      ]
     },
     "metadata": {},
     "output_type": "display_data"
    }
   ],
   "source": [
    "#your plotting code here using pandas\n",
    "# icesheets_df.plot(kind = 'line', x = 'TIME (year.decimal)', y = 'Antarctic mass (Gigatonnes)')\n",
    "#plot the same graph using matplotlib\n",
    "xpoints = icesheets_df['TIME (year.decimal)'].to_numpy()\n",
    "ypoints = icesheets_df['Antarctic mass (Gigatonnes)'].to_numpy()\n",
    "plt.plot(xpoints, ypoints, c = 'green', marker = 'o')"
   ]
  },
  {
   "cell_type": "markdown",
   "metadata": {},
   "source": [
    "3. draw a scatter plot about the ice sheets that has the Antarctic mass (Gigatonnes) on the y-axis, against time on the x-axis, where each point is of size 5 and of colour red. Remember to use the name of the column to indicate the data for each axis. "
   ]
  },
  {
   "cell_type": "code",
   "execution_count": 20,
   "metadata": {},
   "outputs": [
    {
     "data": {
      "text/plain": [
       "<matplotlib.collections.PathCollection at 0x1d74611b390>"
      ]
     },
     "execution_count": 20,
     "metadata": {},
     "output_type": "execute_result"
    },
    {
     "data": {
      "image/png": "[encoded data removed]",
      "text/plain": [
       "<Figure size 640x480 with 1 Axes>"
      ]
     },
     "metadata": {},
     "output_type": "display_data"
    }
   ],
   "source": [
    "# Organize the scatter plot in red\n",
    "xpoints = icesheets_df['TIME (year.decimal)'].to_numpy()\n",
    "ypoints = icesheets_df['Antarctic mass (Gigatonnes)'].to_numpy()\n",
    "plt.scatter(xpoints, ypoints, s = 5, c = 'red')\n"
   ]
  },
  {
   "cell_type": "markdown",
   "metadata": {},
   "source": [
    "We can see that over time there is a decreasing trend in the mass of ice sheets in the Antarctic. This shows that ice is melting in Antarctica."
   ]
  }
 ],
 "metadata": {
  "kernelspec": {
   "display_name": "Python 3",
   "language": "python",
   "name": "python3"
  },
  "language_info": {
   "codemirror_mode": {
    "name": "ipython",
    "version": 3
   },
   "file_extension": ".py",
   "mimetype": "text/x-python",
   "name": "python",
   "nbconvert_exporter": "python",
   "pygments_lexer": "ipython3",
   "version": "3.13.1"
  }
 },
 "nbformat": 4,
 "nbformat_minor": 2
}
